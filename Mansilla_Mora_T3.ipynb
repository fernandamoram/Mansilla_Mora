{
 "cells": [
  {
   "cell_type": "markdown",
   "metadata": {},
   "source": [
    "# Tarea 3: Modelos de Clasificación\n",
    "\n",
    "Integrantes:\n",
    "- Fernando Mansilla\n",
    "- Fernanda Mora\n",
    "\n",
    "\n",
    "La detección de discursos de odio, o Hate Speech Recognition, es crucial en inteligencia artificial para fomentar un entorno en línea seguro y proteger los derechos fundamentales. Las redes sociales, debido al anonimato y alcance, son propicias para este comportamiento. Plataformas como Twitter han mostrado preocupación, pero la mayoría de los esfuerzos se centran en inglés, lo que limita su eficacia en otros idiomas, especialmente en variantes como el \"Chileno\" dado por sus modismos. La eliminación de este contenido es esencial para un entorno en línea más seguro y amigable.\n",
    "\n",
    "El objetivo de este proyecto es crear una herramienta para detectar odio dentro del contenido de un tweet en español (chileno), es decir, permite detectar si el contenido de dicho tweet contiene \"odio\" o no, y así pudiendo eliminar estos discursos para crear un entorno más saludable.\n",
    "\n",
    "Se tienen una base de datos incluye información de 2256 tweets escritos en \"chileno\" con 3 variables que será utilizada para el entrenamiento del modelo. Luego, se tiene una segunda base de datos para evaluar dicho modelo, esta contiene información de 2291 tweets con 2 variables (excluye la variable \"Odio\" ya que corresponde la variable a predecir).\n",
    "Las 3 variables corresponden a:\n",
    "* tweet_id: Un identificador numérico del Tweet (variable numérica discreta) \n",
    "* text: Contenido del Tweet como Texto libre (variable categórica)\n",
    "* Odio: Número de anotadores que consideran que el Tweet contiene Odio o no (variable numérica discreta binaria)\n",
    "\n",
    "Para la evaluación del modelo, se genera un archivo CSV con una sola variable y 2291 observaciones de Odio. Para esto, se considera el rendimiento de acuredo al F1-Score usando como clase positiva la clase Odio.\n",
    "\n",
    "\n",
    "\n"
   ]
  },
  {
   "cell_type": "markdown",
   "metadata": {},
   "source": [
    "## Paso 1: Limpieza de datos y Selección de Variables"
   ]
  },
  {
   "cell_type": "code",
   "execution_count": 1,
   "metadata": {},
   "outputs": [],
   "source": [
    "#Librerías requeridas:\n",
    "import pandas as pd\n",
    "import numpy as np\n",
    "from plotnine import *\n",
    "import sys\n",
    "import matplotlib.pyplot as plt\n"
   ]
  },
  {
   "cell_type": "code",
   "execution_count": 2,
   "metadata": {},
   "outputs": [
    {
     "name": "stdout",
     "output_type": "stream",
     "text": [
      "(2256, 3)\n"
     ]
    },
    {
     "data": {
      "text/html": [
       "<div>\n",
       "<style scoped>\n",
       "    .dataframe tbody tr th:only-of-type {\n",
       "        vertical-align: middle;\n",
       "    }\n",
       "\n",
       "    .dataframe tbody tr th {\n",
       "        vertical-align: top;\n",
       "    }\n",
       "\n",
       "    .dataframe thead th {\n",
       "        text-align: right;\n",
       "    }\n",
       "</style>\n",
       "<table border=\"1\" class=\"dataframe\">\n",
       "  <thead>\n",
       "    <tr style=\"text-align: right;\">\n",
       "      <th></th>\n",
       "      <th>tweet_id</th>\n",
       "      <th>text</th>\n",
       "      <th>Odio</th>\n",
       "    </tr>\n",
       "  </thead>\n",
       "  <tbody>\n",
       "    <tr>\n",
       "      <th>0</th>\n",
       "      <td>1399516036240662528</td>\n",
       "      <td>En una amistad o soy tipo: \\r\\nLo peor es que ...</td>\n",
       "      <td>0</td>\n",
       "    </tr>\n",
       "    <tr>\n",
       "      <th>1</th>\n",
       "      <td>1320788179721560065</td>\n",
       "      <td>QUIEN FUE LA MARACA CULIA TE VOY A MATAR PERRA...</td>\n",
       "      <td>1</td>\n",
       "    </tr>\n",
       "    <tr>\n",
       "      <th>2</th>\n",
       "      <td>1079889645280944129</td>\n",
       "      <td>menos mal q se recibe el año con ropa blanca j...</td>\n",
       "      <td>0</td>\n",
       "    </tr>\n",
       "    <tr>\n",
       "      <th>3</th>\n",
       "      <td>1369254390134145033</td>\n",
       "      <td>Cuantos INFILTRADOS extranjeros hay ahi😡 https...</td>\n",
       "      <td>1</td>\n",
       "    </tr>\n",
       "    <tr>\n",
       "      <th>4</th>\n",
       "      <td>1533854824378290176</td>\n",
       "      <td>#ENCONTRADO #GUAYAQUIL\\r\\nFecha: 06/06/22\\r\\nS...</td>\n",
       "      <td>0</td>\n",
       "    </tr>\n",
       "  </tbody>\n",
       "</table>\n",
       "</div>"
      ],
      "text/plain": [
       "              tweet_id                                               text  \\\n",
       "0  1399516036240662528  En una amistad o soy tipo: \\r\\nLo peor es que ...   \n",
       "1  1320788179721560065  QUIEN FUE LA MARACA CULIA TE VOY A MATAR PERRA...   \n",
       "2  1079889645280944129  menos mal q se recibe el año con ropa blanca j...   \n",
       "3  1369254390134145033  Cuantos INFILTRADOS extranjeros hay ahi😡 https...   \n",
       "4  1533854824378290176  #ENCONTRADO #GUAYAQUIL\\r\\nFecha: 06/06/22\\r\\nS...   \n",
       "\n",
       "   Odio  \n",
       "0     0  \n",
       "1     1  \n",
       "2     0  \n",
       "3     1  \n",
       "4     0  "
      ]
     },
     "execution_count": 2,
     "metadata": {},
     "output_type": "execute_result"
    }
   ],
   "source": [
    "#Visualización preliminar:\n",
    "df_train = pd.read_csv(\"train_tweets.csv\")\n",
    "print(df_train.shape)  # Cantidad de entidades y atributos (filas,columnas)\n",
    "df_train.head()  # Estructura del dataframe"
   ]
  },
  {
   "cell_type": "markdown",
   "metadata": {},
   "source": [
    "En primer lugar, se observa que efectivamente existen información de 2256 tweets (filas) y 3 variables (columnas). "
   ]
  },
  {
   "cell_type": "code",
   "execution_count": 3,
   "metadata": {},
   "outputs": [
    {
     "name": "stdout",
     "output_type": "stream",
     "text": [
      "<class 'pandas.core.frame.DataFrame'>\n",
      "RangeIndex: 2256 entries, 0 to 2255\n",
      "Data columns (total 3 columns):\n",
      " #   Column    Non-Null Count  Dtype \n",
      "---  ------    --------------  ----- \n",
      " 0   tweet_id  2256 non-null   int64 \n",
      " 1   text      2256 non-null   object\n",
      " 2   Odio      2256 non-null   int64 \n",
      "dtypes: int64(2), object(1)\n",
      "memory usage: 53.0+ KB\n"
     ]
    },
    {
     "data": {
      "image/png": "[encoded data removed]",
      "text/plain": [
       "<Figure size 640x480 with 1 Axes>"
      ]
     },
     "metadata": {},
     "output_type": "display_data"
    },
    {
     "name": "stdout",
     "output_type": "stream",
     "text": [
      "Hay 0 tweets duplicados\n"
     ]
    }
   ],
   "source": [
    "df_train.info()  # Características generales de las variables\n",
    "df_train.dtypes.value_counts().plot(kind=\"bar\", title=\"Tipo de Datos\")\n",
    "plt.show()\n",
    "\n",
    "duplicate_tweets = df_train[df_train.duplicated(['text'])]\n",
    "print(f\"Hay {duplicate_tweets.shape[0]} tweets duplicados\")"
   ]
  },
  {
   "cell_type": "markdown",
   "metadata": {},
   "source": [
    "Se observa que no existen datos faltantes en la base de datos y que el tipo de variable definida anteriormente para cada variable es correcta. Además no se observan datos duplicados. Por lo tanto, sólo se elimina la variable \"tweet_id\" ya que no entrega información relevante acerca de los datos, y se mantienen las 2256 observaciones para el entrenamiento del modelo.\n"
   ]
  },
  {
   "cell_type": "code",
   "execution_count": 4,
   "metadata": {},
   "outputs": [
    {
     "data": {
      "text/plain": [
       "Text(0.75, 2000, 'Tweets No Odio: 954')"
      ]
     },
     "execution_count": 4,
     "metadata": {},
     "output_type": "execute_result"
    },
    {
     "data": {
      "image/png": "[encoded data removed]",
      "text/plain": [
       "<Figure size 640x480 with 1 Axes>"
      ]
     },
     "metadata": {},
     "output_type": "display_data"
    }
   ],
   "source": [
    "df_train = df_train.drop(columns= [\"tweet_id\"])\n",
    "df_train[[\"Odio\"]].hist()\n",
    "\n",
    "odio_count = df_train[df_train['Odio'] == 1].shape[0] \n",
    "no_odio_count = df_train[df_train['Odio'] == 0].shape[0]\n",
    "\n",
    "plt.text(0.25, 2000, f\"Tweets Odio: {odio_count}\")  \n",
    "plt.text(0.75, 2000, f\"Tweets No Odio: {no_odio_count}\")"
   ]
  },
  {
   "cell_type": "markdown",
   "metadata": {},
   "source": [
    "Por último, se observa que el 57,71% de los tweets almacenados en la base de datos corresponden a mensajes de odio."
   ]
  },
  {
   "cell_type": "markdown",
   "metadata": {},
   "source": [
    "## Paso 2: Búsqueda de hiperparámetros y aplicación de SVM para los datos "
   ]
  },
  {
   "cell_type": "code",
   "execution_count": 5,
   "metadata": {},
   "outputs": [],
   "source": [
    "#Librerías requeridas:\n",
    "from sklearn.model_selection import GridSearchCV \n",
    "from sklearn.svm import SVC\n",
    "from sklearn.metrics import classification_report\n",
    "import re\n",
    "\n",
    "#Conjunto de prueba\n",
    "df_test = pd.read_csv(\"test_tweets.csv\")\n",
    "\n",
    "#Variable independiente X y variable respuesta Y del conjunto de entrenamiento\n",
    "X_train = df_train['text']  \n",
    "y_train = df_train['Odio']\n",
    "\n",
    "#Variable independiente X del conjunto de prueba\n",
    "X_test = df_test['text']  "
   ]
  },
  {
   "cell_type": "markdown",
   "metadata": {},
   "source": [
    "Luego de cargar las librerías requeridas, se carga el conjunto de prueba test_tweets.csv que como se mencionó anteriormente, contiene 2291 observaciones. Se definen las variables X_train que contiene la variable de los tweets e Y_train que contiene la variable numérica que define si el tweet es de odio o no. Además se define la variable X_test correspondiente al set de datos de prueba."
   ]
  },
  {
   "cell_type": "code",
   "execution_count": 6,
   "metadata": {},
   "outputs": [
    {
     "name": "stdout",
     "output_type": "stream",
     "text": [
      "Mejores parametros: {'C': 1.5, 'degree': 1, 'gamma': 0.5, 'kernel': 'sigmoid'}\n",
      "Best F1 Score: 0.7963748151022922\n"
     ]
    }
   ],
   "source": [
    "#Librerías requeridas\n",
    "from sklearn.model_selection import train_test_split\n",
    "from sklearn.feature_extraction.text import TfidfVectorizer\n",
    "\n",
    "#Vectorizar solo train\n",
    "vectorizer = TfidfVectorizer()\n",
    "X_train = vectorizer.fit_transform(df_train['text']) \n",
    "y_train = df_train['Odio']\n",
    "\n",
    "#GridSearch para hiperparámetros con SVM\n",
    "params = {'C': [0.1, 1, 1.5, 2], 'gamma': [0.01, 0.1, 0.5,1],'degree': [1,2,3], 'kernel': ['rbf','linear','poly','sigmoid']}\n",
    "gridsearch = GridSearchCV(SVC(), params, cv=5,scoring='f1')\n",
    "gridsearch.fit(X_train, y_train)\n",
    "\n",
    "#Vectorizar test_tweets\n",
    "X_test = vectorizer.transform(df_test['text']) \n",
    "\n",
    "print(\"Mejores parametros:\", gridsearch.best_params_)\n",
    "print(\"Best F1 Score:\", gridsearch.best_score_)\n",
    "\n",
    "#Modelo SVM Optimizado\n",
    "best_svm = gridsearch.best_estimator_\n",
    "\n"
   ]
  },
  {
   "cell_type": "markdown",
   "metadata": {},
   "source": [
    "Primero, se vectorizan los textos del conjunto de entrenamiento usando TF-IDF a través de TfidfVectorizer. Esto genera una representación numérica de los textos requerida por los modelos de machine learning. Solo se transforma el train para no filtrar información al test set. Posteriormente, se definen los hiperparámetros y sus valores candidatos para SVM en el diccionario params. Luego se realiza una búsqueda de la mejor configuración mediante validación cruzada con GridSearchCV.\n",
    "\n",
    "Se vectorizan los tweets del conjunto de prueba con el mismo vectorizer entrenado en el train set. Así se obtienen features compatibles con el modelo para realizar las predicciones sobre el set de prueba con el mejor modelo SVM encontrado.\n",
    "\n",
    "Finalmente con los hiperparámetros óptimos para el modelo SVM (c=1.5, gamma=0.5, kernel= sigmoide) se obtiene un F1 score de 0.7964. La métrica de rendimiento F1-score es una medida que combina la precisión (precision) y la exhaustividad (recall) en una sola medida, proporcionando una visión más equilibrada del rendimiento del modelo. Entonces, un F1-score cercano a 0 indica un rendimiento muy pobre mientras que 1 indica un rendimiento perfecto. Por lo tanto, se podría decir que es rendimiento es del modelo es bueno (casi un 80%).\n"
   ]
  },
  {
   "cell_type": "markdown",
   "metadata": {},
   "source": [
    "## Paso 3: Búsqueda de hiperparámetros y aplicación de Naive Bayes para los datos "
   ]
  },
  {
   "cell_type": "code",
   "execution_count": 7,
   "metadata": {},
   "outputs": [
    {
     "name": "stdout",
     "output_type": "stream",
     "text": [
      "Mejores Parámetros NB: {'alpha': 0.1}\n",
      "Best F1 Score NB: 0.7935882651538211\n"
     ]
    }
   ],
   "source": [
    "#Librerías requeridas\n",
    "from sklearn.naive_bayes import MultinomialNB\n",
    "\n",
    "#Hiperparámetros\n",
    "params = {\n",
    "    'alpha': [0.1, 1.0, 10.0]\n",
    "}\n",
    "\n",
    "#Grid Search para hiperparámetros con Naive Bayes\n",
    "grid_nb = GridSearchCV(MultinomialNB(), params, cv=5, scoring='f1')  \n",
    "grid_nb.fit(X_train, y_train)\n",
    "\n",
    "print(\"Mejores Parámetros NB:\", grid_nb.best_params_)\n",
    "print(\"Best F1 Score NB:\", grid_nb.best_score_)\n",
    "\n",
    "#Modelo NB Optimizado\n",
    "best_nb = grid_nb.best_estimator_\n",
    "\n"
   ]
  },
  {
   "cell_type": "markdown",
   "metadata": {},
   "source": [
    "Específicamente, se define un grid de valores candidatos para el hiperparámetro alpha. Luego, al igual que en el modelo anterior, se realiza una validación cruzada de 5 folds barajando distintas combinaciones de dichos valores, para encontrar cuál maximiza el puntaje F1 en la detección de odio.\n",
    "El mejor modelo resultante se almacena en best_nb.\n",
    "\n",
    "Se obtiene como hiperparámetro óptimo alpha= 0.1 para el modelo Naive Bayes, con el cual se obtiene un F1-score de 0.7936, una disminución del rendimiento despereciable con respecto al modelo SVM. Nuevamente, se puede decir que, el modelo tiene un buen rendimiento para predecir."
   ]
  },
  {
   "cell_type": "markdown",
   "metadata": {},
   "source": [
    "## Paso 4: Búsqueda de hiperparámetros y aplicación de Ensamblado para los datos "
   ]
  },
  {
   "cell_type": "code",
   "execution_count": 9,
   "metadata": {},
   "outputs": [
    {
     "name": "stderr",
     "output_type": "stream",
     "text": [
      "/Users/fernandamoramunoz/Library/Python/3.9/lib/python/site-packages/sklearn/model_selection/_validation.py:425: FitFailedWarning: \n",
      "1440 fits failed out of a total of 4320.\n",
      "The score on these train-test partitions for these parameters will be set to nan.\n",
      "If these failures are not expected, you can try to debug them by setting error_score='raise'.\n",
      "\n",
      "Below are more details about the failures:\n",
      "--------------------------------------------------------------------------------\n",
      "1440 fits failed with the following error:\n",
      "Traceback (most recent call last):\n",
      "  File \"/Users/fernandamoramunoz/Library/Python/3.9/lib/python/site-packages/sklearn/model_selection/_validation.py\", line 732, in _fit_and_score\n",
      "    estimator.fit(X_train, y_train, **fit_params)\n",
      "  File \"/Users/fernandamoramunoz/Library/Python/3.9/lib/python/site-packages/sklearn/base.py\", line 1144, in wrapper\n",
      "    estimator._validate_params()\n",
      "  File \"/Users/fernandamoramunoz/Library/Python/3.9/lib/python/site-packages/sklearn/base.py\", line 637, in _validate_params\n",
      "    validate_parameter_constraints(\n",
      "  File \"/Users/fernandamoramunoz/Library/Python/3.9/lib/python/site-packages/sklearn/utils/_param_validation.py\", line 95, in validate_parameter_constraints\n",
      "    raise InvalidParameterError(\n",
      "sklearn.utils._param_validation.InvalidParameterError: The 'max_features' parameter of RandomForestClassifier must be an int in the range [1, inf), a float in the range (0.0, 1.0], a str among {'log2', 'sqrt'} or None. Got 'auto' instead.\n",
      "\n",
      "/Users/fernandamoramunoz/Library/Python/3.9/lib/python/site-packages/sklearn/model_selection/_search.py:976: UserWarning: One or more of the test scores are non-finite: [       nan        nan        nan        nan        nan        nan\n",
      "        nan        nan        nan        nan        nan        nan\n",
      "        nan        nan        nan        nan        nan        nan\n",
      "        nan        nan        nan        nan        nan        nan\n",
      "        nan        nan        nan        nan        nan        nan\n",
      "        nan        nan        nan        nan        nan        nan\n",
      " 0.73337162 0.73290376 0.73228338 0.73187134 0.73604088 0.73248924\n",
      " 0.73207736 0.73187134 0.7325108  0.73269716 0.73187134 0.73187134\n",
      " 0.73383121 0.73331606 0.73228359 0.73187134 0.73172402 0.73248924\n",
      " 0.73187134 0.73187134 0.73677662 0.73249019 0.73249114 0.73187134\n",
      " 0.73883109 0.73187134 0.73187134 0.73187134 0.72910219 0.73248961\n",
      " 0.73228359 0.73187134 0.73457899 0.7324904  0.73187134 0.73187134\n",
      " 0.73172    0.73187134 0.73187134 0.73187134 0.73310946 0.73187134\n",
      " 0.73187134 0.73187134 0.73172    0.73187134 0.73187134 0.73187134\n",
      " 0.73187134 0.73187134 0.73187134 0.73187134 0.73207757 0.73187134\n",
      " 0.73187134 0.73187134 0.73171978 0.73187134 0.73187134 0.73187134\n",
      " 0.73187134 0.73187134 0.73187134 0.73187134 0.73151398 0.73187134\n",
      " 0.73187134 0.73187134 0.73187134 0.73187134 0.73187134 0.73187134\n",
      "        nan        nan        nan        nan        nan        nan\n",
      "        nan        nan        nan        nan        nan        nan\n",
      "        nan        nan        nan        nan        nan        nan\n",
      "        nan        nan        nan        nan        nan        nan\n",
      "        nan        nan        nan        nan        nan        nan\n",
      "        nan        nan        nan        nan        nan        nan\n",
      " 0.74045172 0.73751067 0.73461699 0.73440686 0.74015035 0.73624402\n",
      " 0.7346725  0.73414968 0.73812748 0.73859434 0.73503369 0.73508772\n",
      " 0.74085855 0.73530144 0.73497221 0.73622141 0.73748672 0.7366978\n",
      " 0.7367092  0.73399287 0.74022824 0.7352805  0.73588032 0.73476717\n",
      " 0.7349748  0.73598147 0.73560626 0.73331839 0.73233432 0.73607217\n",
      " 0.73296119 0.73290302 0.73754967 0.73343129 0.73476539 0.73435352\n",
      " 0.73375075 0.73187134 0.73187134 0.73187134 0.73003726 0.73187134\n",
      " 0.73187134 0.73187134 0.73105966 0.73187134 0.73187134 0.73187134\n",
      " 0.73297561 0.73187134 0.73187134 0.73187134 0.73151519 0.73187134\n",
      " 0.73187134 0.73187134 0.73187134 0.73187134 0.73187134 0.73187134\n",
      " 0.73207736 0.73187134 0.73187134 0.73187134 0.73187134 0.73187134\n",
      " 0.73187134 0.73187134 0.73187134 0.73187134 0.73187134 0.73187134\n",
      "        nan        nan        nan        nan        nan        nan\n",
      "        nan        nan        nan        nan        nan        nan\n",
      "        nan        nan        nan        nan        nan        nan\n",
      "        nan        nan        nan        nan        nan        nan\n",
      "        nan        nan        nan        nan        nan        nan\n",
      "        nan        nan        nan        nan        nan        nan\n",
      " 0.74455284 0.74960229 0.75411578 0.74999718 0.74253497 0.75418982\n",
      " 0.75511399 0.75133784 0.74792873 0.75176549 0.75379857 0.75595974\n",
      " 0.74706778 0.7512615  0.75170609 0.75113313 0.74487711 0.74937264\n",
      " 0.74854164 0.751781   0.74569408 0.75184298 0.75196528 0.75058372\n",
      " 0.73633549 0.74606776 0.74741166 0.74917788 0.74342915 0.74606974\n",
      " 0.74634011 0.74809352 0.74735065 0.74817265 0.74948892 0.74465867\n",
      " 0.73421966 0.73187134 0.73187134 0.73187134 0.73218482 0.73187134\n",
      " 0.73187134 0.73187134 0.73285825 0.73187134 0.73187134 0.73187134\n",
      " 0.73105673 0.73187134 0.73187134 0.73187134 0.73198148 0.73187134\n",
      " 0.73187134 0.73187134 0.73286531 0.73187134 0.73187134 0.73187134\n",
      " 0.73187134 0.73187134 0.73187134 0.73187134 0.73187134 0.73187134\n",
      " 0.73187134 0.73187134 0.73187134 0.73187134 0.73187134 0.73187134\n",
      "        nan        nan        nan        nan        nan        nan\n",
      "        nan        nan        nan        nan        nan        nan\n",
      "        nan        nan        nan        nan        nan        nan\n",
      "        nan        nan        nan        nan        nan        nan\n",
      "        nan        nan        nan        nan        nan        nan\n",
      "        nan        nan        nan        nan        nan        nan\n",
      " 0.73715242 0.78318977 0.78020572 0.79222269 0.76604014 0.77274442\n",
      " 0.78253057 0.78114129 0.76395366 0.78252735 0.77888084 0.78497514\n",
      " 0.74838256 0.77347418 0.78257804 0.78437845 0.76114004 0.77675355\n",
      " 0.78584909 0.78513156 0.76619648 0.78460305 0.78442914 0.78481856\n",
      " 0.74239408 0.76197455 0.75933425 0.764671   0.74218968 0.7616512\n",
      " 0.76047019 0.76156188 0.75150834 0.75448474 0.75866248 0.76383464\n",
      " 0.7265113  0.785223   0.78210047 0.7840013  0.75454511 0.78183994\n",
      " 0.77903678 0.78198651 0.7463414  0.78146176 0.77889001 0.77952914\n",
      " 0.73290366 0.73187134 0.73187134 0.73187134 0.7323596  0.73187134\n",
      " 0.73187134 0.73187134 0.73228396 0.73187134 0.73187134 0.73187134\n",
      " 0.73187134 0.73187134 0.73187134 0.73187134 0.73187134 0.73187134\n",
      " 0.73187134 0.73187134 0.73187134 0.73187134 0.73187134 0.73187134\n",
      "        nan        nan        nan        nan        nan        nan\n",
      "        nan        nan        nan        nan        nan        nan\n",
      "        nan        nan        nan        nan        nan        nan\n",
      "        nan        nan        nan        nan        nan        nan\n",
      "        nan        nan        nan        nan        nan        nan\n",
      "        nan        nan        nan        nan        nan        nan\n",
      " 0.73409324 0.73187134 0.73207736 0.73207736 0.73058254 0.73269737\n",
      " 0.73228396 0.73187134 0.73436651 0.73187134 0.73187134 0.73187134\n",
      " 0.73247069 0.73207736 0.73228301 0.73187134 0.73384285 0.73115762\n",
      " 0.73207699 0.73207736 0.73143863 0.73269547 0.73187134 0.73187134\n",
      " 0.73549538 0.73207736 0.73187134 0.73187134 0.73335198 0.73207757\n",
      " 0.73187134 0.73187134 0.73348128 0.73248998 0.73187134 0.73187134\n",
      " 0.73121187 0.73187134 0.73187134 0.73187134 0.73151398 0.73187134\n",
      " 0.73187134 0.73187134 0.73151398 0.73187134 0.73187134 0.73187134\n",
      " 0.73151498 0.73187134 0.73187134 0.73187134 0.73192586 0.73207736\n",
      " 0.73187134 0.73187134 0.73156865 0.73187134 0.73187134 0.73187134\n",
      " 0.73187134 0.73187134 0.73187134 0.73187134 0.73187134 0.73187134\n",
      " 0.73187134 0.73187134 0.73187134 0.73187134 0.73187134 0.73187134\n",
      "        nan        nan        nan        nan        nan        nan\n",
      "        nan        nan        nan        nan        nan        nan\n",
      "        nan        nan        nan        nan        nan        nan\n",
      "        nan        nan        nan        nan        nan        nan\n",
      "        nan        nan        nan        nan        nan        nan\n",
      "        nan        nan        nan        nan        nan        nan\n",
      " 0.73609278 0.73698444 0.73628268 0.73539203 0.73251158 0.73802023\n",
      " 0.73572499 0.73414284 0.7406792  0.73654865 0.73518082 0.73456136\n",
      " 0.73962803 0.7351786  0.73539474 0.73435204 0.73793612 0.73323963\n",
      " 0.73559578 0.7343489  0.73741853 0.73598886 0.73671031 0.73435065\n",
      " 0.73726254 0.73484168 0.73331755 0.73415152 0.73747986 0.73878479\n",
      " 0.73337248 0.733525   0.73777462 0.73518137 0.73539661 0.73373527\n",
      " 0.73163205 0.73187134 0.73187134 0.73187134 0.73203477 0.73187134\n",
      " 0.73187134 0.73187134 0.73157024 0.73187134 0.73187134 0.73187134\n",
      " 0.73192702 0.73187134 0.73187134 0.73187134 0.73172121 0.73187134\n",
      " 0.73187134 0.73187134 0.73177589 0.73187134 0.73187134 0.73187134\n",
      " 0.73187134 0.73187134 0.73187134 0.73187134 0.73187134 0.73187134\n",
      " 0.73187134 0.73187134 0.73187134 0.73187134 0.73187134 0.73187134\n",
      "        nan        nan        nan        nan        nan        nan\n",
      "        nan        nan        nan        nan        nan        nan\n",
      "        nan        nan        nan        nan        nan        nan\n",
      "        nan        nan        nan        nan        nan        nan\n",
      "        nan        nan        nan        nan        nan        nan\n",
      "        nan        nan        nan        nan        nan        nan\n",
      " 0.7456091  0.7536661  0.75170049 0.75302533 0.75003739 0.75248273\n",
      " 0.75137687 0.75590919 0.74695594 0.75013385 0.75440526 0.75169153\n",
      " 0.75264418 0.74651087 0.75003993 0.75287926 0.74516557 0.75171741\n",
      " 0.75131035 0.75142992 0.73696716 0.75512848 0.75155972 0.74765757\n",
      " 0.75023773 0.74651749 0.74486562 0.74739952 0.74161488 0.74674655\n",
      " 0.74526762 0.74614871 0.74698875 0.75083762 0.74667696 0.745982\n",
      " 0.73306263 0.73187134 0.73187134 0.73187134 0.7297479  0.73248903\n",
      " 0.73187134 0.73187134 0.73317111 0.73187134 0.73187134 0.73187134\n",
      " 0.73239294 0.73187134 0.73187134 0.73187134 0.73352245 0.73187134\n",
      " 0.73187134 0.73187134 0.73177461 0.73187134 0.73187134 0.73187134\n",
      " 0.73187134 0.73187134 0.73187134 0.73187134 0.73187134 0.73187134\n",
      " 0.73187134 0.73187134 0.73187134 0.73187134 0.73187134 0.73187134\n",
      "        nan        nan        nan        nan        nan        nan\n",
      "        nan        nan        nan        nan        nan        nan\n",
      "        nan        nan        nan        nan        nan        nan\n",
      "        nan        nan        nan        nan        nan        nan\n",
      "        nan        nan        nan        nan        nan        nan\n",
      "        nan        nan        nan        nan        nan        nan\n",
      " 0.75346182 0.78109486 0.79221409 0.79091852 0.75485789 0.77719371\n",
      " 0.78462437 0.78590706 0.75680838 0.78554426 0.78300911 0.7839968\n",
      " 0.75915025 0.78212202 0.79013878 0.79435555 0.7582515  0.78047701\n",
      " 0.78913299 0.79335837 0.76723401 0.78202412 0.78820774 0.79235063\n",
      " 0.75290817 0.76055203 0.76544797 0.7575098  0.74796134 0.76152751\n",
      " 0.76060163 0.75557228 0.75425249 0.75836509 0.75799222 0.76614289\n",
      " 0.73292727 0.76537149 0.78276589 0.78759772 0.7483008  0.78712865\n",
      " 0.78757211 0.790184   0.76156211 0.78519608 0.78648338 0.7877368\n",
      " 0.73248961 0.73187134 0.73187134 0.73187134 0.73172121 0.73187134\n",
      " 0.73187134 0.73187134 0.73218612 0.73187134 0.73187134 0.73187134\n",
      " 0.73187134 0.73187134 0.73187134 0.73187134 0.73187134 0.73187134\n",
      " 0.73187134 0.73187134 0.73187134 0.73187134 0.73187134 0.73187134]\n"
     ]
    },
    {
     "name": "stdout",
     "output_type": "stream",
     "text": [
      "Mejores parametros RF: {'criterion': 'entropy', 'max_depth': None, 'max_features': 'sqrt', 'min_samples_leaf': 2, 'min_samples_split': 2, 'n_estimators': 200}\n",
      "Mejor F1 RF: 0.7943555479415824\n"
     ]
    }
   ],
   "source": [
    "#Librerías requeridas:\n",
    "from sklearn.ensemble import RandomForestClassifier\n",
    "\n",
    "#Crear modelo\n",
    "rf_model = RandomForestClassifier()\n",
    "\n",
    "#Hiperparámetros\n",
    "params = {\n",
    "    'n_estimators': [10, 50, 100, 200],\n",
    "    'max_depth': [5, 8, 15, None],\n",
    "    'min_samples_split': [2, 5, 10],\n",
    "    'min_samples_leaf': [1, 2, 5], \n",
    "    'max_features': ['auto', 'sqrt', 'log2'],\n",
    "    'criterion': ['gini', 'entropy']\n",
    "}\n",
    "\n",
    "#GridSearch para hiperparámetros con Random Forest \n",
    "rf_gs = GridSearchCV(rf_model, params, cv=5, scoring='f1')\n",
    "rf_gs.fit(X_train, y_train)\n",
    "\n",
    "print(\"Mejores parametros RF:\", rf_gs.best_params_)\n",
    "print(\"Mejor F1 RF:\", rf_gs.best_score_)\n",
    "\n",
    "#Modelo RF Optimizado\n",
    "best_rf = rf_gs.best_estimator_"
   ]
  },
  {
   "cell_type": "markdown",
   "metadata": {},
   "source": [
    "Se inicializa un modelo de Random Forest y se definen los rangos de valores candidatos para los hiperparámetros a optimizar. Se realiza una validación cruzada de 5 folds utilizando la métrica F1 score como función de evaluación, para encontrar la combinación de hiperparámetros que maximicen la capacidad de detección de odio del modelo Random Forest. El error de esta parte del código ocurre dado a una equivocación cometida en max_features donde no se debió proporcionar 'auto' como valor de prueba.\n",
    "\n",
    "Se obtiene como hiperparámetros óptimos del Modelo de Ensamblado Random Forest son criterion = entropy, n_estimators= 200, max_features=log2, min_saples_leaf=1, min_samles_split=5 y max_depth = None con los cuales el F1 es 0,7944. Este modelo presenta un rendimiento menor al modelo SVM, pero más alto que el modelo Naive Bayes, sin embargo, las diferencias siguen siendo despreciables y presenta un buen desempeño."
   ]
  },
  {
   "cell_type": "markdown",
   "metadata": {},
   "source": [
    "## Paso 4: Comparación y Selección del Mejor Modelo"
   ]
  },
  {
   "cell_type": "markdown",
   "metadata": {},
   "source": [
    "Comparando los modelos implementados y sus respectivos rendimientos de acuerdo al F1-score:\n",
    "\n",
    "* El modelo SVM logra el mayor puntaje de F1 (0.7964) utilizando los hiperparámetros óptimos encontrados mediante Grid Search Cross Validation. \n",
    "* Le sigue muy de cerca el modelo Ensamblado Random Forest con 0.7946 de F1, con una pequeña diferencia en performance.\n",
    "* Finalmente, el modelo Naive Bayes alcanza un 0.7936 de F1, aún un buen valor pero inferior que los anteriores.\n",
    "\n",
    "Considerando estos resultados, se selecciona el modelo SVM como el algoritmo con mejor capacidad de generalización y métricas en la detección de discursos de odio en este problema. Si bien la diferencia de F1 con Random Forest es mínima (0.0018), SVM presenta una pequeña ventaja, logrando casi un 80% de exactitud combinando precisión y exhaustividad.\n"
   ]
  },
  {
   "cell_type": "code",
   "execution_count": 10,
   "metadata": {},
   "outputs": [],
   "source": [
    "y_pred = best_svm.predict(X_test)\n",
    "tweet_id = df_test['tweet_id']\n",
    "predictions_svm_df = pd.DataFrame({\"tweet_id\":tweet_id, \"Odio\": y_pred})\n",
    "predictions_svm_df.to_csv(\"predictions_svm.csv\", index=False)"
   ]
  },
  {
   "cell_type": "markdown",
   "metadata": {},
   "source": []
  }
 ],
 "metadata": {
  "kernelspec": {
   "display_name": "Python 3",
   "language": "python",
   "name": "python3"
  },
  "language_info": {
   "codemirror_mode": {
    "name": "ipython",
    "version": 3
   },
   "file_extension": ".py",
   "mimetype": "text/x-python",
   "name": "python",
   "nbconvert_exporter": "python",
   "pygments_lexer": "ipython3",
   "version": "3.9.6"
  }
 },
 "nbformat": 4,
 "nbformat_minor": 2
}
